{
 "cells": [
  {
   "metadata": {},
   "cell_type": "markdown",
   "source": [
    "# Random Forest\n",
    "This page goes over training of a Random Forest Ensamble model, evaluating it with `GridSearchCV`, and peforming hyperparameter tuning for more perfect fit."
   ],
   "id": "8a77807f92f26ee"
  },
  {
   "metadata": {
    "ExecuteTime": {
     "end_time": "2025-03-26T07:52:37.015793Z",
     "start_time": "2025-03-26T07:52:32.683748Z"
    }
   },
   "cell_type": "code",
   "source": [
    "import pandas as pd\n",
    "import numpy as np\n",
    "from sklearn.ensemble import RandomForestClassifier\n",
    "from sklearn.model_selection import StratifiedShuffleSplit, GridSearchCV\n",
    "from sklearn.compose import ColumnTransformer\n",
    "from sklearn.preprocessing import OneHotEncoder, LabelEncoder, StandardScaler\n",
    "from sklearn.pipeline import Pipeline\n",
    "from sklearn.metrics import accuracy_score, confusion_matrix, zero_one_loss, classification_report"
   ],
   "id": "fbc121e30a2defb3",
   "outputs": [],
   "execution_count": 1
  },
  {
   "metadata": {},
   "cell_type": "markdown",
   "source": "Our First Task is to Define Headers\n",
   "id": "48aaa7982d683205"
  },
  {
   "metadata": {
    "ExecuteTime": {
     "end_time": "2025-03-25T17:29:46.911341Z",
     "start_time": "2025-03-25T17:29:46.901490Z"
    }
   },
   "cell_type": "code",
   "source": [
    "def define_columns(df: pd.DataFrame) -> tuple[list[str], list[str], list[str]]:\n",
    "    # Things that belong to strongly predictions, we just remove this\n",
    "    exclusion_list = ['num_outbound_cmds', 'attack_category', 'success_pred', 'attack_type']\n",
    "    # Define nominal and binary columns\n",
    "    nominal = ['protocol_type', 'service', 'flag']\n",
    "    binary = ['land', 'logged_in', 'root_shell', 'su_attempted', 'is_host_login', 'is_guest_login']\n",
    "\n",
    "    # Define numeric columns dynamically based on the dataframe\n",
    "    numeric = [col for col in df.columns if col not in nominal + binary + exclusion_list]\n",
    "\n",
    "    return nominal, binary, numeric"
   ],
   "id": "a3760eb47f6c006b",
   "outputs": [],
   "execution_count": 35
  },
  {
   "metadata": {},
   "cell_type": "markdown",
   "source": "Below Code provides us with a standard function to evaluate our model:",
   "id": "261f58a2f677b8a4"
  },
  {
   "metadata": {
    "ExecuteTime": {
     "end_time": "2025-03-25T17:29:47.002750Z",
     "start_time": "2025-03-25T17:29:46.993078Z"
    }
   },
   "cell_type": "code",
   "source": [
    "def print_score(classifier_name: str, y_test_data, y_pred_data):\n",
    "    print(f\"\\n{classifier_name}\\n\")\n",
    "    print(f\"Zero One Loss: {zero_one_loss(y_test_data, y_pred_data):.4f}\")\n",
    "    print(f\"Accuracy: {accuracy_score(y_test_data, y_pred_data):.2f}\")\n",
    "    print(\"\\nClassification Report:\\n\", classification_report(y_test_data, y_pred_data))\n",
    "    print(\"\\nConfusion Matrix:\\n\", confusion_matrix(y_test_data, y_pred_data))"
   ],
   "id": "ac3b9c86b8ffd0fc",
   "outputs": [],
   "execution_count": 36
  },
  {
   "metadata": {},
   "cell_type": "markdown",
   "source": "Fixing Problems with existing data",
   "id": "2576e081368d2532"
  },
  {
   "metadata": {
    "ExecuteTime": {
     "end_time": "2025-03-25T17:29:47.089618Z",
     "start_time": "2025-03-25T17:29:47.079518Z"
    }
   },
   "cell_type": "code",
   "source": [
    "def preprocess_data(df: pd.DataFrame) -> tuple:\n",
    "    \"\"\"Prepare and preprocess the dataset.\"\"\"\n",
    "    try:\n",
    "        df = df.copy()\n",
    "\n",
    "        # Data cleaning\n",
    "        df['su_attempted'] = df['su_attempted'].replace({2: 0}, inplace=False)\n",
    "\n",
    "        # Define columns\n",
    "        nominal, binary, numeric = define_columns(df)\n",
    "\n",
    "        return df[nominal + numeric + binary], df['attack_category']\n",
    "    except Exception as e:\n",
    "        raise ValueError(f\"Error in preprocessing: {str(e)}\")"
   ],
   "id": "5fc231ed2d161edb",
   "outputs": [],
   "execution_count": 37
  },
  {
   "metadata": {},
   "cell_type": "markdown",
   "source": "Call the Preprocess Method",
   "id": "17047db711057bab"
  },
  {
   "metadata": {
    "jupyter": {
     "is_executing": true
    },
    "ExecuteTime": {
     "start_time": "2025-03-25T17:29:47.164092Z"
    }
   },
   "cell_type": "code",
   "source": [
    "# Load data with error handling\n",
    "df = pd.read_csv('./data/kdd_merged.csv')\n",
    "\n",
    "# Preprocess data\n",
    "X, y = preprocess_data(df)\n",
    "\n",
    "# Encode target variable\n",
    "label_encoder = LabelEncoder()\n",
    "y_encoded = label_encoder.fit_transform(y)\n",
    "nominal, binary, numeric = define_columns(df)\n",
    "\n",
    "# Define preprocessing pipeline\n",
    "preprocessor = ColumnTransformer([\n",
    "    ('nominal', OneHotEncoder(handle_unknown='ignore', sparse_output=False), nominal),\n",
    "    ('numeric', StandardScaler(), numeric),\n",
    "    ('binary', 'passthrough', binary)\n",
    "])\n",
    "\n",
    "# Create pipeline\n",
    "pipeline = Pipeline([\n",
    "    ('preprocessor', preprocessor),\n",
    "    ('classifier', RandomForestClassifier(random_state=42))\n",
    "])\n",
    "\n",
    "# Define parameter grid for GridSearchCV\n",
    "param_grid = {\n",
    "    'classifier__n_estimators': [100, 200],  # Number of trees\n",
    "    'classifier__max_depth': [10, 20, None],  # Maximum depth of trees\n",
    "    'classifier__min_samples_split': [2, 5],  # Minimum samples to split\n",
    "    'classifier__min_samples_leaf': [1, 2]    # Minimum samples in leaf\n",
    "}\n",
    "\n",
    "# Stratified cross-validation\n",
    "sss = StratifiedShuffleSplit(n_splits=4, test_size=0.3, random_state=42)\n",
    "scores = []\n",
    "\n",
    "# Create GridSearchCV object\n",
    "grid_search = GridSearchCV(\n",
    "    pipeline,\n",
    "    param_grid=param_grid,\n",
    "    cv=3,  # Inner cross-validation folds\n",
    "    scoring='accuracy',\n",
    "    n_jobs=-1,  # Use all available CPU cores\n",
    "    verbose=1\n",
    ")\n",
    "\n",
    "# Training and evaluation loop\n",
    "for fold, (train_index, test_index) in enumerate(sss.split(X, y_encoded), 1):\n",
    "    X_train, X_test = X.iloc[train_index], X.iloc[test_index]\n",
    "    y_train, y_test = y_encoded[train_index], y_encoded[test_index]\n",
    "\n",
    "    try:\n",
    "        # Fit GridSearchCV\n",
    "        grid_search.fit(X_train, y_train)\n",
    "\n",
    "        # Get best parameters for this fold\n",
    "        print(f\"\\nBest parameters for fold {fold}: {grid_search.best_params_}\")\n",
    "\n",
    "        # Predict using the best model\n",
    "        pred = grid_search.predict(X_test)\n",
    "        scores.append(accuracy_score(y_test, pred))\n",
    "        print_score(f\"Random Forest - Fold {fold}\", y_test, pred)\n",
    "\n",
    "    except Exception as e:\n",
    "        print(f\"Error in fold {fold}: {str(e)}\")\n",
    "        continue\n",
    "\n",
    "# Final summary\n",
    "print(\"\\nCross-validation scores:\", scores)\n",
    "print(f\"Mean accuracy: {np.mean(scores):.4f} (+/- {np.std(scores) * 2:.4f})\")\n",
    "print(f\"Overall best parameters from last fold: {grid_search.best_params_}\")\n",
    "\n",
    "# Optional: Save the best model from the final fold\n",
    "import joblib\n",
    "joblib.dump(grid_search.best_estimator_, 'best_rf_model.pkl')"
   ],
   "id": "62651cc7e8951884",
   "outputs": [
    {
     "name": "stdout",
     "output_type": "stream",
     "text": [
      "Fitting 3 folds for each of 24 candidates, totalling 72 fits\n",
      "\n",
      "Best parameters for fold 1: {'classifier__max_depth': None, 'classifier__min_samples_leaf': 1, 'classifier__min_samples_split': 5, 'classifier__n_estimators': 100}\n",
      "\n",
      "Random Forest - Fold 1\n",
      "\n",
      "Zero One Loss: 0.0048\n",
      "Accuracy: 1.00\n",
      "\n",
      "Classification Report:\n",
      "               precision    recall  f1-score   support\n",
      "\n",
      "           0       0.99      1.00      1.00     23117\n",
      "           1       1.00      1.00      1.00     16069\n",
      "           2       0.99      1.00      0.99      4224\n",
      "           3       1.00      0.96      0.98      1071\n",
      "           4       0.89      0.63      0.73        75\n",
      "\n",
      "    accuracy                           1.00     44556\n",
      "   macro avg       0.97      0.91      0.94     44556\n",
      "weighted avg       1.00      1.00      1.00     44556\n",
      "\n",
      "\n",
      "Confusion Matrix:\n",
      " [[23048    33    30     3     3]\n",
      " [   54 16012     3     0     0]\n",
      " [   12     0  4212     0     0]\n",
      " [   41     0     2  1025     3]\n",
      " [   25     0     1     2    47]]\n",
      "Fitting 3 folds for each of 24 candidates, totalling 72 fits\n"
     ]
    }
   ],
   "execution_count": null
  },
  {
   "metadata": {
    "ExecuteTime": {
     "end_time": "2025-03-26T03:14:57.460607100Z",
     "start_time": "2025-03-25T17:25:38.977718Z"
    }
   },
   "cell_type": "code",
   "source": [
    "import matplotlib.pyplot as plt\n",
    "plt.boxplot(scores)\n",
    "plt.title('Cross-validation Scores')\n",
    "plt.show()"
   ],
   "id": "42a89549415296f3",
   "outputs": [
    {
     "data": {
      "text/plain": [
       "<Figure size 640x480 with 1 Axes>"
      ],
      "image/png": "[encoded data removed]"
     },
     "metadata": {},
     "output_type": "display_data"
    }
   ],
   "execution_count": 33
  }
 ],
 "metadata": {
  "kernelspec": {
   "display_name": "Python 3",
   "language": "python",
   "name": "python3"
  },
  "language_info": {
   "codemirror_mode": {
    "name": "ipython",
    "version": 2
   },
   "file_extension": ".py",
   "mimetype": "text/x-python",
   "name": "python",
   "nbconvert_exporter": "python",
   "pygments_lexer": "ipython2",
   "version": "2.7.6"
  }
 },
 "nbformat": 4,
 "nbformat_minor": 5
}
