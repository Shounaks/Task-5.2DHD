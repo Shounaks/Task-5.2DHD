{
 "cells": [
  {
   "metadata": {},
   "cell_type": "markdown",
   "source": "",
   "id": "74ea0b07b3ff4cc1"
  },
  {
   "cell_type": "code",
   "id": "initial_id",
   "metadata": {
    "collapsed": true,
    "ExecuteTime": {
     "end_time": "2025-04-07T14:41:22.123805Z",
     "start_time": "2025-04-07T14:41:21.269233Z"
    }
   },
   "source": [
    "import pandas as pd\n",
    "\n",
    "df = pd.read_csv('./data/kdd_merged.csv')\n",
    "\n",
    "# Things that belong to strongly predictions, we just remove this\n",
    "exclusion_list = ['num_outbound_cmds', 'attack_category', 'success_pred', 'attack_type']\n",
    "\n",
    "# Define nominal and binary columns\n",
    "# numeric is calculated using above 2.\n",
    "nominal = ['protocol_type', 'service', 'flag']\n",
    "binary = ['land', 'logged_in', 'root_shell', 'su_attempted', 'is_host_login', 'is_guest_login']\n",
    "\n",
    "\n",
    "def define_numeric_column(data: pd.DataFrame) -> list:\n",
    "    # Define numeric columns dynamically based on the dataframe\n",
    "    return [col for col in data.columns if col not in nominal + binary + exclusion_list]\n",
    "\n",
    "numerical = define_numeric_column(df)\n",
    "{\n",
    "    \"Nominal Data\" : nominal,\n",
    "    \"Binary Data\" : binary,\n",
    "    \"Numerical Data\" : numerical,\n",
    "}"
   ],
   "outputs": [
    {
     "data": {
      "text/plain": [
       "{'Nominal Data': ['protocol_type', 'service', 'flag'],\n",
       " 'Binary Data': ['land',\n",
       "  'logged_in',\n",
       "  'root_shell',\n",
       "  'su_attempted',\n",
       "  'is_host_login',\n",
       "  'is_guest_login'],\n",
       " 'Numerical Data': ['duration',\n",
       "  'src_bytes',\n",
       "  'dst_bytes',\n",
       "  'wrong_fragment',\n",
       "  'urgent',\n",
       "  'hot',\n",
       "  'num_failed_logins',\n",
       "  'num_compromised',\n",
       "  'num_root',\n",
       "  'num_file_creations',\n",
       "  'num_shells',\n",
       "  'num_access_files',\n",
       "  'count',\n",
       "  'srv_count',\n",
       "  'serror_rate',\n",
       "  'srv_serror_rate',\n",
       "  'rerror_rate',\n",
       "  'srv_rerror_rate',\n",
       "  'same_srv_rate',\n",
       "  'diff_srv_rate',\n",
       "  'srv_diff_host_rate',\n",
       "  'dst_host_count',\n",
       "  'dst_host_srv_count',\n",
       "  'dst_host_same_srv_rate',\n",
       "  'dst_host_diff_srv_rate',\n",
       "  'dst_host_same_src_port_rate',\n",
       "  'dst_host_srv_diff_host_rate',\n",
       "  'dst_host_serror_rate',\n",
       "  'dst_host_srv_serror_rate',\n",
       "  'dst_host_rerror_rate',\n",
       "  'dst_host_srv_rerror_rate']}"
      ]
     },
     "execution_count": 4,
     "metadata": {},
     "output_type": "execute_result"
    }
   ],
   "execution_count": 4
  }
 ],
 "metadata": {
  "kernelspec": {
   "display_name": "Python 3",
   "language": "python",
   "name": "python3"
  },
  "language_info": {
   "codemirror_mode": {
    "name": "ipython",
    "version": 2
   },
   "file_extension": ".py",
   "mimetype": "text/x-python",
   "name": "python",
   "nbconvert_exporter": "python",
   "pygments_lexer": "ipython2",
   "version": "2.7.6"
  }
 },
 "nbformat": 4,
 "nbformat_minor": 5
}
